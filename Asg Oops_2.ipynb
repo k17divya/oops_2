{
 "cells": [
  {
   "cell_type": "code",
   "execution_count": null,
   "id": "fddcc78f-f6aa-4ab9-8f01-23e1b759d094",
   "metadata": {},
   "outputs": [],
   "source": [
    "                                                        CONSTRUCTOR"
   ]
  },
  {
   "cell_type": "code",
   "execution_count": null,
   "id": "5be17ad6-db71-4682-857a-6948a0b88cd7",
   "metadata": {},
   "outputs": [],
   "source": [
    "# Q1"
   ]
  },
  {
   "cell_type": "code",
   "execution_count": null,
   "id": "3b1c46c3-18b7-4041-9068-8db068efad71",
   "metadata": {},
   "outputs": [],
   "source": [
    "In Python, a constructor is a special method used to initialize objects of a class. \n",
    "It's called automatically when a new instance (object) of the class is created. \n",
    "In essence, it sets up the initial state or attributes of the object.\n",
    "The constructor method in Python is named __init__. \n",
    "When you create an instance of a class by calling the class name followed by parentheses, like obj = MyClass(), Python automatically invokes the __init__ method for that class.\n",
    "The purpose of a constructor is to ensure that an object created from a class starts with specific initial values for its attributes. \n",
    "This allows for consistency and avoids having to manually set these attributes every time you create an object.\n",
    "Additionally, constructors can perform other initialization tasks or setup operations needed before the object is ready to be used."
   ]
  },
  {
   "cell_type": "code",
   "execution_count": null,
   "id": "5e6f52f5-3847-441c-a4ee-006a7305114f",
   "metadata": {},
   "outputs": [],
   "source": [
    "# Q2"
   ]
  },
  {
   "cell_type": "code",
   "execution_count": null,
   "id": "53a5c519-4521-452b-9f8e-363637e2fec3",
   "metadata": {},
   "outputs": [],
   "source": [
    "Parameterless Constructor:\n",
    "\n",
    "A parameterless constructor, often denoted as def __init__(self):, doesn't take any explicit arguments other than the mandatory self (which refers to the instance itself).\n",
    "It initializes the object's attributes with default values or performs any necessary setup without requiring any external input.\n",
    "\n",
    "\n",
    "Parameterized Constructor:\n",
    "\n",
    "A parameterized constructor, denoted as def __init__(self, param1, param2, ...):, accepts explicit parameters other than self.\n",
    "It allows initialization of object attributes with values provided during object creation."
   ]
  },
  {
   "cell_type": "code",
   "execution_count": 2,
   "id": "d6da9164-8ea3-4b7a-b1ee-2f802b313123",
   "metadata": {},
   "outputs": [],
   "source": [
    "# Q3"
   ]
  },
  {
   "cell_type": "code",
   "execution_count": null,
   "id": "95654456-a7f6-4f86-93b1-484494427429",
   "metadata": {},
   "outputs": [],
   "source": [
    "In Python, a constructor is defined within a class using a special method called __init__.\n",
    "This method initializes the attributes of the class when an object is created.\n",
    "for example :"
   ]
  },
  {
   "cell_type": "code",
   "execution_count": 3,
   "id": "9dc6a974-3b5d-4b64-af77-aec81fc5d1f6",
   "metadata": {},
   "outputs": [
    {
     "name": "stdout",
     "output_type": "stream",
     "text": [
      "Name: Alice, Age: 30\n",
      "Name: Bob, Age: 25\n"
     ]
    }
   ],
   "source": [
    "class Person:\n",
    "    def __init__(self, name, age):\n",
    "        self.name = name\n",
    "        self.age = age\n",
    "\n",
    "    def display_info(self):\n",
    "        print(f\"Name: {self.name}, Age: {self.age}\")\n",
    "\n",
    "# Creating an object of the Person class using the constructor\n",
    "person1 = Person(\"Alice\", 30)\n",
    "person1.display_info()  # Output: Name: Alice, Age: 30\n",
    "\n",
    "person2 = Person(\"Bob\", 25)\n",
    "person2.display_info()  # Output: Name: Bob, Age: 25"
   ]
  },
  {
   "cell_type": "code",
   "execution_count": 4,
   "id": "61f7f6a4-e1d5-482e-aa0c-7cfa407cfa48",
   "metadata": {},
   "outputs": [],
   "source": [
    "# Q4"
   ]
  },
  {
   "cell_type": "code",
   "execution_count": null,
   "id": "f150a356-d304-4c88-9be6-5bdbfab7d4b6",
   "metadata": {},
   "outputs": [],
   "source": [
    "In Python, the __init__ method serves as a constructor, automatically called when an instance of a class is created. Its primary role is to initialize the object's attributes or perform any necessary setup when the object is instantiated. This method allows you to define how object attributes are initialized, ensuring that newly created instances start with specific values or configurations."
   ]
  },
  {
   "cell_type": "code",
   "execution_count": 5,
   "id": "5e5edef6-aabe-4c20-b19a-b55ba22aa241",
   "metadata": {},
   "outputs": [],
   "source": [
    "# Q5"
   ]
  },
  {
   "cell_type": "code",
   "execution_count": 8,
   "id": "06b9ac37-07a9-4d13-ad16-d25030376554",
   "metadata": {},
   "outputs": [],
   "source": [
    "class Person:\n",
    "    def __init__(self, name, age):\n",
    "        self.name = name\n",
    "        self.age = age\n",
    "\n",
    "# Creating an object of the Person class using the constructor\n",
    "person = Person(\"John\", 25)"
   ]
  },
  {
   "cell_type": "code",
   "execution_count": null,
   "id": "940d0c16-1442-43c3-be02-66247ee14e26",
   "metadata": {},
   "outputs": [],
   "source": [
    "In this example, the Person class has an __init__ method (constructor) that takes name and age as parameters along with the mandatory self. Inside the constructor, self.name and self.age are instance attributes initialized with the values passed during object creation.\n",
    "The last line creates an object named person of the Person class, passing \"John\" as the name and 25 as the age to the constructor."
   ]
  },
  {
   "cell_type": "code",
   "execution_count": 9,
   "id": "29944335-62b1-4697-b906-0ee40daf4c77",
   "metadata": {},
   "outputs": [],
   "source": [
    "# Q6"
   ]
  },
  {
   "cell_type": "code",
   "execution_count": null,
   "id": "3914e23a-63f3-4894-9f44-835133539b26",
   "metadata": {},
   "outputs": [],
   "source": [
    "In Python, you don't typically call the constructor explicitly. It's automatically invoked when you create an instance of a class."
   ]
  },
  {
   "cell_type": "code",
   "execution_count": 11,
   "id": "2abc21d4-2a58-4023-adbd-68ac62b3b29b",
   "metadata": {},
   "outputs": [
    {
     "name": "stdout",
     "output_type": "stream",
     "text": [
      "10\n",
      "20\n"
     ]
    }
   ],
   "source": [
    "class MyClass:\n",
    "    def __init__(self, value):\n",
    "        self.value = value\n",
    "\n",
    "    def reset_value(self, new_value):\n",
    "        # Indirectly calling the constructor\n",
    "        self.__init__(new_value)\n",
    "\n",
    "# Creating an object of MyClass\n",
    "obj = MyClass(10)\n",
    "print(obj.value)  # Output: 10\n",
    "\n",
    "# Resetting the value using the reset_value method\n",
    "obj.reset_value(20)\n",
    "print(obj.value)  # Output: 20 (the value has been reset)"
   ]
  },
  {
   "cell_type": "code",
   "execution_count": null,
   "id": "09d606a8-f9fd-4b0b-8d09-2d984685a2a8",
   "metadata": {},
   "outputs": [],
   "source": [
    "here, the reset_value method indirectly calls the constructor __init__ using self.__init__(new_value). This effectively reinitializes the value attribute of the object to the new value provided as an argument to reset_value. However, this approach of calling the constructor within the class itself is uncommon and might lead to unexpected behavior in certain scenarios. The typical usage is to let the constructor be automatically invoked when objects are created."
   ]
  },
  {
   "cell_type": "code",
   "execution_count": 12,
   "id": "a77630c7-920e-4218-a2fa-8d10858e920c",
   "metadata": {},
   "outputs": [],
   "source": [
    "# Q7"
   ]
  },
  {
   "cell_type": "code",
   "execution_count": null,
   "id": "f114d5cb-9b2a-4967-8827-5762d597bae9",
   "metadata": {},
   "outputs": [],
   "source": [
    "\n",
    "In Python, the self parameter in constructors (and other instance methods) refers to the instance of the class itself. It's a convention in Python to use self as the first parameter for instance methods, including constructors, to access and modify the attributes and methods of that specific instance."
   ]
  },
  {
   "cell_type": "code",
   "execution_count": 14,
   "id": "dcf6644d-cf28-4a72-9a38-697a98592922",
   "metadata": {},
   "outputs": [
    {
     "name": "stdout",
     "output_type": "stream",
     "text": [
      "Name: karan, Age: 22\n",
      "Name: tanvi, Age: 18\n"
     ]
    }
   ],
   "source": [
    "class Person:\n",
    "    def __init__(self, name, age):\n",
    "        self.name = name\n",
    "        self.age = age\n",
    "\n",
    "    def display_info(self):\n",
    "        print(f\"Name: {self.name}, Age: {self.age}\")\n",
    "\n",
    "# Creating objects of the Person class\n",
    "person1 = Person(\"karan\", 22)\n",
    "person2 = Person(\"tanvi\", 18)\n",
    "\n",
    "# Accessing attributes and invoking methods using 'self'\n",
    "person1.display_info()  # Output: Name: karan, Age: 22\n",
    "person2.display_info()  # Output: Name: tanvi, Age: 18"
   ]
  },
  {
   "cell_type": "code",
   "execution_count": 16,
   "id": "674acfd8-8e65-471c-b656-3211317fe44c",
   "metadata": {},
   "outputs": [],
   "source": [
    "# Q9"
   ]
  },
  {
   "cell_type": "code",
   "execution_count": 17,
   "id": "cac1fc42-c846-43f6-9fa5-166072e2a247",
   "metadata": {},
   "outputs": [
    {
     "name": "stdout",
     "output_type": "stream",
     "text": [
      "The area of the rectangle is: 50\n"
     ]
    }
   ],
   "source": [
    "class Rectangle:\n",
    "    def __init__(self, width, height):\n",
    "        self.width = width\n",
    "        self.height = height\n",
    "\n",
    "    def calculate_area(self):\n",
    "        return self.width * self.height\n",
    "\n",
    "# Creating an object of the Rectangle class\n",
    "my_rectangle = Rectangle(5, 10)\n",
    "\n",
    "# Calculating the area of the rectangle\n",
    "area = my_rectangle.calculate_area()\n",
    "print(f\"The area of the rectangle is: {area}\")"
   ]
  },
  {
   "cell_type": "code",
   "execution_count": 18,
   "id": "98c26e0c-d65b-4e67-abde-16d2d0900081",
   "metadata": {},
   "outputs": [],
   "source": [
    "# Q10"
   ]
  },
  {
   "cell_type": "code",
   "execution_count": 19,
   "id": "eb7c14b2-be3f-4f10-9585-8c482310ce3e",
   "metadata": {},
   "outputs": [
    {
     "name": "stdout",
     "output_type": "stream",
     "text": [
      "Rectangle: Width=5, Height=10\n",
      "Square: Width=7, Height=7\n"
     ]
    }
   ],
   "source": [
    "class Rectangle:\n",
    "    def __init__(self, width=None, height=None):\n",
    "        if width is not None and height is not None:\n",
    "            self.width = width\n",
    "            self.height = height\n",
    "        else:\n",
    "            self.width = 0\n",
    "            self.height = 0\n",
    "\n",
    "    @classmethod\n",
    "    def create_square(cls, side_length):\n",
    "        # Alternate constructor for creating a square\n",
    "        return cls(width=side_length, height=side_length)\n",
    "\n",
    "# Creating objects of the Rectangle class using different constructors\n",
    "rectangle1 = Rectangle(5, 10)  # Creating a rectangle\n",
    "square = Rectangle.create_square(7)  # Creating a square\n",
    "\n",
    "print(f\"Rectangle: Width={rectangle1.width}, Height={rectangle1.height}\")\n",
    "print(f\"Square: Width={square.width}, Height={square.height}\")"
   ]
  },
  {
   "cell_type": "code",
   "execution_count": null,
   "id": "26d65669-ad5f-47cd-afb3-83026451133b",
   "metadata": {},
   "outputs": [],
   "source": [
    "In this example, the Rectangle class has a single constructor (__init__) that accepts optional width and height parameters. If both parameters are provided during object creation, it initializes the width and height attributes accordingly. Otherwise, if no parameters are given or only one of them is given, it defaults to 0 for both width and height.\n",
    "\n",
    "Additionally, there's a class method create_square defined using the @classmethod decorator. This acts as an alternative constructor specifically for creating square rectangles. It takes a side_length parameter and uses it to create a square by setting both width and height to the same value."
   ]
  },
  {
   "cell_type": "code",
   "execution_count": 20,
   "id": "46b0862a-d654-4178-a176-5f5f8752889f",
   "metadata": {},
   "outputs": [],
   "source": [
    "# Q12"
   ]
  },
  {
   "cell_type": "code",
   "execution_count": null,
   "id": "47856d5f-c822-4f6f-a7b8-8291b3eadd9c",
   "metadata": {},
   "outputs": [],
   "source": [
    "super() is used to access and call methods from the parent class within a subclass. \n",
    "When dealing with constructors, super() allows you to invoke the constructor of the parent class from the child class, ensuring proper initialization of inherited attributes and methods.\n",
    "Here's an example to illustrate the use of super() in Python constructors:"
   ]
  },
  {
   "cell_type": "code",
   "execution_count": 21,
   "id": "8f242216-7724-4262-b16e-c45cfa2849cd",
   "metadata": {},
   "outputs": [
    {
     "name": "stdout",
     "output_type": "stream",
     "text": [
      "Parent constructor called\n",
      "Child constructor called\n"
     ]
    }
   ],
   "source": [
    "class Parent:\n",
    "    def __init__(self, parent_attribute):\n",
    "        self.parent_attribute = parent_attribute\n",
    "        print(\"Parent constructor called\")\n",
    "\n",
    "class Child(Parent):\n",
    "    def __init__(self, parent_attribute, child_attribute):\n",
    "        super().__init__(parent_attribute)\n",
    "        self.child_attribute = child_attribute\n",
    "        print(\"Child constructor called\")\n",
    "\n",
    "# Creating an object of the Child class\n",
    "child_obj = Child(\"Parent\", \"Child\")"
   ]
  },
  {
   "cell_type": "code",
   "execution_count": 22,
   "id": "913861b5-582a-44e1-853e-797c8aca1f80",
   "metadata": {},
   "outputs": [],
   "source": [
    "# Q13"
   ]
  },
  {
   "cell_type": "code",
   "execution_count": 23,
   "id": "844aea6c-fdaa-45a1-9b60-04a665592d96",
   "metadata": {},
   "outputs": [
    {
     "name": "stdout",
     "output_type": "stream",
     "text": [
      "Title: Python Programming\n",
      "Author: Guido van Rossum\n",
      "Published Year: 2020\n"
     ]
    }
   ],
   "source": [
    "class Book:\n",
    "    def __init__(self, title, author, published_year):\n",
    "        self.title = title\n",
    "        self.author = author\n",
    "        self.published_year = published_year\n",
    "\n",
    "    def display_details(self):\n",
    "        print(f\"Title: {self.title}\")\n",
    "        print(f\"Author: {self.author}\")\n",
    "        print(f\"Published Year: {self.published_year}\")\n",
    "\n",
    "# Creating an object of the Book class\n",
    "book = Book(\"Python Programming\", \"Guido van Rossum\", 2020)\n",
    "\n",
    "# Displaying book details\n",
    "book.display_details()"
   ]
  },
  {
   "cell_type": "code",
   "execution_count": null,
   "id": "7fb82e10-c574-4a8f-bcc8-71ec4c61afc0",
   "metadata": {},
   "outputs": [],
   "source": [
    "The display_details method is used to print the details of the book, displaying its title, author, and published_year. When an object book is created with the title \"Python Programming\", author \"Guido van Rossum\", and published year 2020, the display_details() method is called on this object to print the book details."
   ]
  },
  {
   "cell_type": "code",
   "execution_count": 24,
   "id": "20806004-374f-41bc-a067-e4e06ee87e33",
   "metadata": {},
   "outputs": [],
   "source": [
    "# Q14"
   ]
  },
  {
   "cell_type": "code",
   "execution_count": null,
   "id": "1edd1f70-5532-4fa4-ac5a-6d3b36be2606",
   "metadata": {},
   "outputs": [],
   "source": [
    "The self is used to represent the instance of the class. With this keyword, you can access the attributes and methods of the class in python. It binds the attributes with the given arguments. The reason why we use self is that Python does not use the '@' syntax to refer to instance attributes."
   ]
  },
  {
   "cell_type": "code",
   "execution_count": 1,
   "id": "63ef8558-d970-4079-bb43-e924b1030a68",
   "metadata": {},
   "outputs": [],
   "source": [
    "# Q15"
   ]
  },
  {
   "cell_type": "code",
   "execution_count": null,
   "id": "fe9352de-2324-4bc3-803a-574dc5650199",
   "metadata": {},
   "outputs": [],
   "source": [
    "The self is used to represent the instance of the class. With this keyword, you can access the attributes and methods of the class in python. It binds the attributes with the given arguments. The reason why we use self is that Python does not use the '@' syntax to refer to instance attributes."
   ]
  },
  {
   "cell_type": "code",
   "execution_count": 2,
   "id": "7d29dd26-5bef-4848-bfaa-b02facb85ffb",
   "metadata": {},
   "outputs": [],
   "source": [
    "# Q16"
   ]
  },
  {
   "cell_type": "code",
   "execution_count": null,
   "id": "2ae70b68-7630-44d7-b87e-4b40057e833f",
   "metadata": {},
   "outputs": [],
   "source": [
    "In Python, we can prevent a class from having multiple instances by using a Singleton pattern. The Singleton pattern ensures that only one instance of a class is created and provides a way to access that instance."
   ]
  },
  {
   "cell_type": "code",
   "execution_count": 3,
   "id": "3cb1d030-5cc0-4158-b4bc-5222b7f41762",
   "metadata": {},
   "outputs": [
    {
     "name": "stdout",
     "output_type": "stream",
     "text": [
      "20\n",
      "20\n",
      "True\n"
     ]
    }
   ],
   "source": [
    "class Singleton:\n",
    "    _instance = None  # Private variable to store the single instance\n",
    "\n",
    "    def __new__(cls, *args, **kwargs):\n",
    "        if not cls._instance:\n",
    "            cls._instance = super().__new__(cls)\n",
    "        return cls._instance\n",
    "\n",
    "    def __init__(self, value):\n",
    "        self.value = value\n",
    "\n",
    "# Creating instances of the Singleton class\n",
    "instance1 = Singleton(10)\n",
    "instance2 = Singleton(20)\n",
    "\n",
    "print(instance1.value)  # Output: 20\n",
    "print(instance2.value)  # Output: 20\n",
    "\n",
    "print(instance1 is instance2)  # Output: True (Both instances refer to the same object)"
   ]
  },
  {
   "cell_type": "code",
   "execution_count": 4,
   "id": "a6675074-209d-4879-b0c4-20ce0ffdef7f",
   "metadata": {},
   "outputs": [],
   "source": [
    "# Q17"
   ]
  },
  {
   "cell_type": "code",
   "execution_count": 5,
   "id": "89faece5-acaf-436b-bd3f-59d2a01e9c3c",
   "metadata": {},
   "outputs": [
    {
     "name": "stdout",
     "output_type": "stream",
     "text": [
      "['Math', 'Science', 'History']\n"
     ]
    }
   ],
   "source": [
    "class Student:\n",
    "    def __init__(self, subjects):\n",
    "        self.subjects = subjects\n",
    "\n",
    "# Creating an object of the Student class with a list of subjects\n",
    "student = Student([\"Math\", \"Science\", \"History\"])\n",
    "\n",
    "# Accessing the subjects attribute of the student object\n",
    "print(student.subjects)  # Output: ['Math', 'Science', 'History']"
   ]
  },
  {
   "cell_type": "code",
   "execution_count": 6,
   "id": "42f7db7e-c2da-4df3-b624-7c82121a2782",
   "metadata": {},
   "outputs": [],
   "source": [
    "# Q18"
   ]
  },
  {
   "cell_type": "code",
   "execution_count": null,
   "id": "ad18d1aa-5088-4d75-aed3-6a24200ae725",
   "metadata": {},
   "outputs": [],
   "source": [
    "the purpose of the __del__ method is to perform cleanup actions or release resources associated with the object before it's deleted from memory. However, its usage is not recommended for general cleanup tasks due to uncertainty about precisely when the garbage collector will reclaim an object's memory."
   ]
  },
  {
   "cell_type": "code",
   "execution_count": 7,
   "id": "94aac1d6-ed91-40fd-9057-588009783271",
   "metadata": {},
   "outputs": [],
   "source": [
    "# Q19"
   ]
  },
  {
   "cell_type": "code",
   "execution_count": null,
   "id": "a872d280-6307-492a-bfac-230512b5caa9",
   "metadata": {},
   "outputs": [],
   "source": [
    "Constructor chaining, also known as constructor delegation, refers to the ability of a constructor to call another constructor within the same class or in its parent class. This enables the reuse of initialization logic from one constructor in another."
   ]
  },
  {
   "cell_type": "code",
   "execution_count": 8,
   "id": "fc759e58-a3bf-40a8-9bb3-1859eafe5840",
   "metadata": {},
   "outputs": [
    {
     "name": "stdout",
     "output_type": "stream",
     "text": [
      "Parent constructor called\n",
      "Child constructor called\n"
     ]
    }
   ],
   "source": [
    "class Parent:\n",
    "    def __init__(self, parent_attribute):\n",
    "        self.parent_attribute = parent_attribute\n",
    "        print(\"Parent constructor called\")\n",
    "\n",
    "class Child(Parent):\n",
    "    def __init__(self, parent_attribute, child_attribute):\n",
    "        super().__init__(parent_attribute)\n",
    "        self.child_attribute = child_attribute\n",
    "        print(\"Child constructor called\")\n",
    "\n",
    "# Creating an object of the Child class\n",
    "child_obj = Child(\"Parent\", \"Child\")"
   ]
  },
  {
   "cell_type": "code",
   "execution_count": null,
   "id": "57eb3a9a-6223-4989-a6a9-670e9ba01664",
   "metadata": {},
   "outputs": [],
   "source": [
    "Parent is the parent class with a constructor that initializes parent_attribute.\n",
    "Child is a subclass of Parent and has its own constructor that takes both parent_attribute and child_attribute.\n",
    "super().__init__(parent_attribute) in the Child constructor delegates the initialization of parent_attribute to the constructor of the Parent class.\n",
    "Both the Parent and Child constructors print messages when they are called.\n",
    "When Child(\"Parent\", \"Child\") is used to create an object of the Child class, the Child constructor is called. Inside the Child constructor, super().__init__(parent_attribute) invokes the Parent class's constructor, initializing the parent_attribute. Then, the Child constructor proceeds to initialize the child_attribute."
   ]
  },
  {
   "cell_type": "code",
   "execution_count": 10,
   "id": "3054328a-c94e-416d-af8e-9f62a78286ff",
   "metadata": {},
   "outputs": [],
   "source": [
    "# Q20"
   ]
  },
  {
   "cell_type": "code",
   "execution_count": 11,
   "id": "a6f72910-225d-4681-86fe-51973d46798d",
   "metadata": {},
   "outputs": [
    {
     "name": "stdout",
     "output_type": "stream",
     "text": [
      "Make: Unknown\n",
      "Model: Unknown\n"
     ]
    }
   ],
   "source": [
    "class Car:\n",
    "    def __init__(self, make=\"Unknown\", model=\"Unknown\"):\n",
    "        self.make = make\n",
    "        self.model = model\n",
    "\n",
    "    def display_info(self):\n",
    "        print(f\"Make: {self.make}\")\n",
    "        print(f\"Model: {self.model}\")\n",
    "\n",
    "# Creating an object of the Car class using the default constructor\n",
    "car = Car()\n",
    "\n",
    "# Accessing the display_info method to show car information\n",
    "car.display_info()"
   ]
  },
  {
   "cell_type": "code",
   "execution_count": null,
   "id": "63129036-9b90-42f1-8bfc-b999320ba3a6",
   "metadata": {},
   "outputs": [],
   "source": [
    "The display_info method is used to print the details of the car, displaying its make and model. When an object car is created using the default constructor, the display_info() method is called on this object to print the car's information."
   ]
  }
 ],
 "metadata": {
  "kernelspec": {
   "display_name": "Python 3 (ipykernel)",
   "language": "python",
   "name": "python3"
  },
  "language_info": {
   "codemirror_mode": {
    "name": "ipython",
    "version": 3
   },
   "file_extension": ".py",
   "mimetype": "text/x-python",
   "name": "python",
   "nbconvert_exporter": "python",
   "pygments_lexer": "ipython3",
   "version": "3.10.8"
  }
 },
 "nbformat": 4,
 "nbformat_minor": 5
}
